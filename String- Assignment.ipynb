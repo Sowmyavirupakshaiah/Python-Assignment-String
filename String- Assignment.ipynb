{
 "cells": [
  {
   "cell_type": "markdown",
   "id": "66ba7dd5",
   "metadata": {},
   "source": [
    "# 1) Which method/inbuilt function should I use to convert String \"welcome to the beautiful world of python\" to \"Welcome To The Beautiful World Of Python\"."
   ]
  },
  {
   "cell_type": "code",
   "execution_count": 4,
   "id": "f189cd94",
   "metadata": {},
   "outputs": [
    {
     "name": "stdout",
     "output_type": "stream",
     "text": [
      "Welcome To The Beautiful World Of Python\n"
     ]
    }
   ],
   "source": [
    "txt = \"welcome to the beautiful world of python\"\n",
    "\n",
    "x = txt.title()\n",
    "\n",
    "print(x)"
   ]
  },
  {
   "cell_type": "markdown",
   "id": "05163ccc",
   "metadata": {},
   "source": [
    "Ans: The title() method returns a string where the first character in every word is upper case. Like a header, or a title.\n",
    "\n",
    "If the word contains a number or a symbol, the first letter after that will be converted to upper case."
   ]
  },
  {
   "cell_type": "markdown",
   "id": "4161b92d",
   "metadata": {},
   "source": [
    "# 2) Split a given string on hyphens into several substrings\n",
    "      str1 = Emma-is-a-data-scientist\n"
   ]
  },
  {
   "cell_type": "code",
   "execution_count": 6,
   "id": "45ce1524",
   "metadata": {},
   "outputs": [
    {
     "name": "stdout",
     "output_type": "stream",
     "text": [
      "Original String is: Emma-is-a-data-scientist\n",
      "Displaying each substring\n",
      "Emma\n",
      "is\n",
      "a\n",
      "data\n",
      "scientist\n"
     ]
    }
   ],
   "source": [
    "str1 = \"Emma-is-a-data-scientist\"\n",
    "print(\"Original String is:\", str1)\n",
    "\n",
    "# split string\n",
    "sub_strings = str1.split(\"-\")\n",
    "\n",
    "print(\"Displaying each substring\")\n",
    "for sub in sub_strings:\n",
    "    print(sub)"
   ]
  },
  {
   "cell_type": "markdown",
   "id": "99908bd7",
   "metadata": {},
   "source": [
    "# 3) Remove empty strings from a list of strings\n",
    "        str_list = [\"Emma\", \"Jon\", \"\", \"Kelly\", None, \"Eric\", \"\"]"
   ]
  },
  {
   "cell_type": "code",
   "execution_count": 15,
   "id": "083b1261",
   "metadata": {},
   "outputs": [
    {
     "name": "stdout",
     "output_type": "stream",
     "text": [
      "Original list of sting:\n",
      " ['Emma', 'Jon', '', 'Kelly', None, 'Eric', '']\n",
      "After removing empty strings\n",
      "['Emma', 'Jon', 'Kelly', 'Eric']\n"
     ]
    }
   ],
   "source": [
    "str_list = [\"Emma\", \"Jon\", \"\", \"Kelly\", None, \"Eric\", \"\"]\n",
    "print(\"Original list of sting:\\n\",str_list)\n",
    "res_list = []\n",
    "print(\"After removing empty strings\")\n",
    "for s in str_list:\n",
    "    # check for non empty string\n",
    "    if s:\n",
    "        res_list.append(s)\n",
    "print(res_list)"
   ]
  },
  {
   "cell_type": "markdown",
   "id": "671c9708",
   "metadata": {},
   "source": [
    "# 4) Create an string and execute the following inbuilt functions on it.\n",
    "        - upper, lower, capitalize, split, join, isnumeric, isalpha, isdigit, count, isalnum.\n"
   ]
  },
  {
   "cell_type": "code",
   "execution_count": 43,
   "id": "ebc33cbc",
   "metadata": {},
   "outputs": [
    {
     "name": "stdout",
     "output_type": "stream",
     "text": [
      "\n",
      "upper(): \n",
      "INBUILT FUNCTIONS OF PYTHON @ 134567\n",
      "\n",
      "lower():\n",
      "inbuilt functions of python @ 134567\n",
      "\n",
      "capitalize()\n",
      "Inbuilt functions of python @ 134567\n",
      "\n",
      "split Functions:\n",
      "\n",
      "rpartition():\n",
      "('InbUiLT FuNctIonS ', 'OF', ' pYtHoN @ 134567')\n",
      "\n",
      "rsplit():\n",
      "['InbUiLT', 'FuNctIonS', 'OF', 'pYtHoN', '@', '134567']\n",
      "\n",
      "join(): \n",
      "InbUiLT FuNctIonS OF pYtHoN @ 134567\n",
      "\n",
      "isnumeric(): \n",
      "False\n",
      "\n",
      "isalpha(): \n",
      "True\n",
      "\n",
      "isdigit():\n",
      "True\n",
      "\n",
      "count():\n",
      "2\n",
      "\n",
      "isalnum():\n",
      "True\n",
      "False\n"
     ]
    }
   ],
   "source": [
    "text = 'InbUiLT FuNctIonS OF pYtHoN @ 134567'\n",
    "# upper() function to convert\n",
    "# string to upper case\n",
    "print(\"\\nupper(): \")\n",
    "print(text.upper())\n",
    " \n",
    "# lower() function to convert\n",
    "# string to lower case\n",
    "print(\"\\nlower():\")\n",
    "print(text.lower())\n",
    " \n",
    "# capitalize() first letter of string\n",
    "# and make other letters lowercase\n",
    "print(\"\\ncapitalize()\")\n",
    "print(text.capitalize())\n",
    "\n",
    "print(\"\\nsplit Functions:\")\n",
    "## Here 'OF' is a separator which is present in the given string\n",
    "print(\"\\nrpartition():\")\n",
    "print(text.rpartition('OF'))\n",
    "\n",
    "#rsplit() method returns a list of strings after breaking the given string from the right side by the specified separator.\n",
    "print(\"\\nrsplit():\")\n",
    "print(text.rsplit())\n",
    "\n",
    "# use of join function to join list of elements with a character.\n",
    "print(\"\\njoin(): \")\n",
    "print(\"\".join(text))\n",
    "\n",
    "# checking for numeric characters\n",
    "print(\"\\nisnumeric(): \")\n",
    "print(text.isnumeric())\n",
    "\n",
    "# checking for alphabets\n",
    "text9 =\"SowmyaSandeep\"\n",
    "print(\"\\nisalpha(): \")\n",
    "print(text9.isalpha())\n",
    "\n",
    "# checking for digit\n",
    "text12 = '15460'\n",
    "print(\"\\nisdigit():\")\n",
    "print(text12.isdigit())\n",
    "\n",
    "# counts the number of times substring occurs in the given string and returns an integer\n",
    "print(\"\\ncount():\")\n",
    "print(text.count(\"n\"))\n",
    "\n",
    "#checks whether all the characters in a given string are alphanumeric or not\n",
    "print(\"\\nisalnum():\")\n",
    "# here a,b and c are characters and 1,2 and 3\n",
    "# are numbers\n",
    "string = \"abc123\"\n",
    "print(string.isalnum())\n",
    "  \n",
    "# here a,b and c are characters and 1,2 and 3 \n",
    "# are numbers but space is not a alphanumeric \n",
    "# character\n",
    "string = \"abc 123\" \n",
    "print(string.isalnum())"
   ]
  },
  {
   "cell_type": "markdown",
   "id": "4c99c0d4",
   "metadata": {},
   "source": [
    "# 5) Guess the correct output of the following code?"
   ]
  },
  {
   "cell_type": "code",
   "execution_count": 44,
   "id": "d6fde995",
   "metadata": {},
   "outputs": [
    {
     "name": "stdout",
     "output_type": "stream",
     "text": [
      "Yna PYnat tive PYnativ PYnativ\n"
     ]
    }
   ],
   "source": [
    "str1 = \"PYnative\"\n",
    "print(str1[1:4], str1[:5], str1[4:], str1[0:-1], str1[:-1])\n"
   ]
  },
  {
   "cell_type": "code",
   "execution_count": 46,
   "id": "3f352650",
   "metadata": {},
   "outputs": [],
   "source": [
    "#Ans:c)Yna PYnat tive PYnativ PYnativ"
   ]
  },
  {
   "cell_type": "markdown",
   "id": "9acef74b",
   "metadata": {},
   "source": [
    "# 6) write the correct output of the following String operations"
   ]
  },
  {
   "cell_type": "code",
   "execution_count": 47,
   "id": "30d553c1",
   "metadata": {},
   "outputs": [
    {
     "name": "stdout",
     "output_type": "stream",
     "text": [
      "WelcomeWelcome\n"
     ]
    }
   ],
   "source": [
    "        str1 = 'Welcome'\n",
    "print(str1*2)\n"
   ]
  },
  {
   "cell_type": "markdown",
   "id": "35a45a71",
   "metadata": {},
   "source": [
    "# 7) Find all occurrences of “USA” in given string ignoring the case\n",
    "str1 = \"Welcome to USA. usa awesome, isn't it?\""
   ]
  },
  {
   "cell_type": "code",
   "execution_count": 52,
   "id": "4e2065c5",
   "metadata": {},
   "outputs": [
    {
     "name": "stdout",
     "output_type": "stream",
     "text": [
      "The USA count is: 2\n"
     ]
    }
   ],
   "source": [
    "str1 = \"Welcome to USA. usa awesome, isn't it?\"\n",
    "print(\"The USA count is:\",str1.lower().count('usa'))"
   ]
  }
 ],
 "metadata": {
  "kernelspec": {
   "display_name": "Python 3 (ipykernel)",
   "language": "python",
   "name": "python3"
  },
  "language_info": {
   "codemirror_mode": {
    "name": "ipython",
    "version": 3
   },
   "file_extension": ".py",
   "mimetype": "text/x-python",
   "name": "python",
   "nbconvert_exporter": "python",
   "pygments_lexer": "ipython3",
   "version": "3.9.7"
  }
 },
 "nbformat": 4,
 "nbformat_minor": 5
}
